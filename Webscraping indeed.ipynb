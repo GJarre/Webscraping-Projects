{
 "cells": [
  {
   "cell_type": "markdown",
   "metadata": {},
   "source": [
    "# Project: Webscraping Indeed \n",
    "\n",
    "#### Full code is at the end\n"
   ]
  },
  {
   "cell_type": "markdown",
   "metadata": {},
   "source": [
    "# Load Libraries"
   ]
  },
  {
   "cell_type": "code",
   "execution_count": 13,
   "metadata": {},
   "outputs": [],
   "source": [
    "import requests\n",
    "from bs4 import BeautifulSoup\n",
    "import pandas as pd"
   ]
  },
  {
   "cell_type": "markdown",
   "metadata": {},
   "source": [
    "# Exploring the Html code \n",
    "1. Try different methods in beautiful soup to get a feel for how to scrape the data"
   ]
  },
  {
   "cell_type": "markdown",
   "metadata": {},
   "source": [
    " When you use requests you only get the HTML content of the page which doesn't have what you need. You should use for example selenium (or requests-html) if you want to parse page with elements rendered by web browser.\n",
    " \n",
    " https://stackoverflow.com/questions/55351871/beautifulsoup-attributeerror-nonetype-object-has-no-attribute-text"
   ]
  },
  {
   "cell_type": "code",
   "execution_count": 20,
   "metadata": {},
   "outputs": [
    {
     "name": "stdout",
     "output_type": "stream",
     "text": [
      "Indeed Gigs\n",
      "newFind jobs with Flexible Hours!\n",
      "Bronx, NY+4 locations\n"
     ]
    }
   ],
   "source": [
    "# Exploring the html\n",
    "url = f'https://www.indeed.com/jobs?l=Bronx,%20NY&radius=10&explvl=entry_level&fromage=14&start=0&vjk=2dd1503812377c92'\n",
    "headers = {'User-Agent':'Mozilla/5.0 (Windows NT 10.0; Win64; x64) AppleWebKit/537.36 (KHTML, like Gecko) Chrome/99.0.4844.74 Safari/537.36 Edg/99.0.1150.46'}\n",
    "Indeed = requests.get(url, headers)\n",
    "soup = BeautifulSoup(Indeed.content, 'html.parser')\n",
    "Job_table = soup.find(class_=\"slider_item\")\n",
    "table_body = Job_table.find('tbody')\n",
    "table_item =table_body.find('td')\n",
    "Company = table_item.find(class_=\"companyName\")\n",
    "Job_title = table_item.find(class_ =\"jobTitle\")\n",
    "Locaton = table_item.find(class_=\"companyLocation\")\n",
    "\n",
    "print(Company.get_text())\n",
    "print(Job_title.get_text())\n",
    "print(Locaton.get_text()) # the +4 represents other locations\n"
   ]
  },
  {
   "cell_type": "markdown",
   "metadata": {},
   "source": [
    "# Make the code into a Function  for easier use."
   ]
  },
  {
   "cell_type": "code",
   "execution_count": 4,
   "metadata": {},
   "outputs": [],
   "source": [
    "# time to check response\n",
    "# from what I've seen, it should be fine to webscrape indeedd\n",
    "\n",
    "def Choose(page):\n",
    "    ''' 1st page = 0, pages afterwards goes up by 10.\n",
    "        some sites need more information before they let allow you to webscrape\n",
    "        use  user agent\n",
    "    '''\n",
    "    url = f'https://www.indeed.com/jobs?l=Bronx,%20NY&radius=10&explvl=entry_level&fromage=14&start={page}&vjk=2dd1503812377c92'\n",
    "    headers = {'User-Agent':'Mozilla/5.0 (Windows NT 10.0; Win64; x64) AppleWebKit/537.36 (KHTML, like Gecko) Chrome/99.0.4844.74 Safari/537.36 Edg/99.0.1150.46'}\n",
    "    Indeed = requests.get(url, headers)\n",
    "    soup = BeautifulSoup(Indeed.content, 'html.parser')\n",
    "    return soup\n",
    "\n"
   ]
  },
  {
   "cell_type": "code",
   "execution_count": 21,
   "metadata": {
    "scrolled": true
   },
   "outputs": [
    {
     "data": {
      "text/plain": [
       "['newFind jobs with Flexible Hours!Indeed GigsBronx, NY+4 locationsPart-time +2',\n",
       " '\\nWhether it’s hiring for online work from home, part time, entry level or no experience jobs, you get to set your own schedule!\\nPostedToday']"
      ]
     },
     "execution_count": 21,
     "metadata": {},
     "output_type": "execute_result"
    }
   ],
   "source": [
    "# trying CSS selectors\n",
    "item = Job_table.select(\"tbody tr td\")\n",
    "# returns everything in one list\n",
    "infos = [pt.get_text() for pt in item]\n",
    "infos"
   ]
  },
  {
   "cell_type": "code",
   "execution_count": 17,
   "metadata": {},
   "outputs": [
    {
     "name": "stdout",
     "output_type": "stream",
     "text": [
      "Getting pages, 0\n",
      "Getting pages, 10\n",
      "Getting pages, 20\n",
      "Getting pages, 30\n"
     ]
    }
   ],
   "source": [
    "def transform(soup):\n",
    "    divs = soup.find_all('div',class_=\"slider_item\")\n",
    "    for item in divs:\n",
    "        title = item.find(attrs={'class':'jobTitle'}).text.strip()\n",
    "        company = item.find(attrs={'class':'companyName'}).text.strip()\n",
    "        Location = item.find(attrs={'class':'companyLocation'}).text.strip()\n",
    "        try:\n",
    "            salary = item.find(attrs={'class':'metadata estimated-salary-container'}).text.strip()\n",
    "        except:\n",
    "            salary ='NA'\n",
    "        Description = item.find(attrs={'class':'job-snippet'}).text.strip().replace('\\n','')\n",
    "        try:\n",
    "            employment_a = item.find(attrs={'class':'attribute_snippet'}).text.strip()\n",
    "        except:\n",
    "            employment_a ='NA'\n",
    "        Posted = item.find(attrs={'class':'date'}).text.strip()\n",
    "        \n",
    "        # create a Dict to dataframe use \n",
    "        Jobs = {'Title':title,\n",
    "                'Company' : company,\n",
    "                'Location' : Location,\n",
    "                'Salary' : salary,\n",
    "                'Description' : Description,\n",
    "                'Job_Type' :  employment_a,\n",
    "                'Date_posted' : Posted}\n",
    "        joblist.append(Jobs)\n",
    "    return\n",
    "   \n",
    "joblist = []\n",
    "# could later change the 40 to a input function\n",
    "#as this code will get you 3 pages worth.\n",
    "\n",
    "for i in range(0,40, 10):\n",
    "    print(f'Getting pages, {i}')\n",
    "    c = Choose(i)\n",
    "    transform(c)\n",
    "\n",
    "    \n",
    "Indeed_df = pd.DataFrame(joblist)    \n",
    "    \n",
    "Indeed_df.to_csv('Indeedjobs.csv')"
   ]
  },
  {
   "cell_type": "markdown",
   "metadata": {},
   "source": [
    "# Method of Choice\n",
    "\n",
    "Finding a scraping method that straight forward , \n",
    "using attrs parameter seems to works pretty well.\n",
    "it allows us to find  or desired data by searching by attributes\n",
    " using a dictionary, the key is  the tag and value in a this case is string\n",
    " class = 'jobtitle'. This  method is present in both  find and find all"
   ]
  },
  {
   "cell_type": "code",
   "execution_count": 22,
   "metadata": {},
   "outputs": [
    {
     "data": {
      "text/plain": [
       "['newFind jobs with Flexible Hours!',\n",
       " 'Door Attendant',\n",
       " 'Overnight- Houseman, Bellmen',\n",
       " 'Housemen, Bellmen',\n",
       " 'newDental Receptionist FT No Evenings No Weekends',\n",
       " 'newMedical Receptionist/Assistant',\n",
       " 'newNow Hiring! Front Desk Associates - West Fordham',\n",
       " 'Overnight Door Attendant',\n",
       " 'newFull-Time Store Associate',\n",
       " 'Cashier',\n",
       " 'newCOVID-19 Screener',\n",
       " 'newProgram Associate',\n",
       " 'newPatient Assistant',\n",
       " 'newTeam Lead',\n",
       " 'newCustomer Experience Associate']"
      ]
     },
     "execution_count": 22,
     "metadata": {},
     "output_type": "execute_result"
    }
   ],
   "source": [
    "# test\n",
    "jobs_a = soup.find_all(attrs={'class':'jobTitle'})\n",
    "Scrapped_titles = []\n",
    "for job  in jobs_a:\n",
    "    Titles = job.get_text()\n",
    "    Scrapped_titles.append(Titles)\n",
    "\n",
    "Scrapped_titles"
   ]
  },
  {
   "cell_type": "markdown",
   "metadata": {},
   "source": [
    "# Further Exploring Each Html Tag of interest"
   ]
  },
  {
   "cell_type": "code",
   "execution_count": 38,
   "metadata": {},
   "outputs": [
    {
     "data": {
      "text/plain": [
       "['Estimated $24.4K – $31K a year',\n",
       " 'Estimated $24.8K – $31.4K a year',\n",
       " 'Estimated $24.8K – $31.4K a year']"
      ]
     },
     "execution_count": 38,
     "metadata": {},
     "output_type": "execute_result"
    }
   ],
   "source": [
    "esalary_a = soup.find_all(attrs={'class':'metadata estimated-salary-container'})\n",
    "Scrapped_Salary = []\n",
    "for est in esalary_a :\n",
    "    C_salary =  est.get_text()\n",
    "    Scrapped_Salary.append(C_salary)\n",
    "# need to put in a deafult of  NA, as its not usable right now    \n",
    "Scrapped_Salary\n",
    "\n",
    "\n"
   ]
  },
  {
   "cell_type": "markdown",
   "metadata": {},
   "source": [
    "### Missing Values\n",
    "\n",
    "At first I was confused at first, whyI had so many values returning when trying to get the attributes for each job (like partime etc.) ?  The answer is simple , not every job post its salary, and \n",
    "similarilty some jobs might have mutiple labels(attributes), others might not have any\n",
    "so either exluded these or create  a code that gives a default value,while also stop\n",
    "value error, due to NoneType\n"
   ]
  },
  {
   "cell_type": "code",
   "execution_count": 26,
   "metadata": {},
   "outputs": [
    {
     "data": {
      "text/plain": [
       "['Part-time +2',\n",
       " '$35 an hour',\n",
       " 'Full-time',\n",
       " '8 hour shift',\n",
       " '$26 an hour',\n",
       " 'Full-time',\n",
       " '8 hour shift +1',\n",
       " '$25 an hour',\n",
       " 'Full-time',\n",
       " '8 hour shift',\n",
       " '$18 - $26 an hour',\n",
       " 'Full-time',\n",
       " '$19 - $22 an hour',\n",
       " 'Full-time',\n",
       " 'Part-time',\n",
       " '$40 an hour',\n",
       " 'Full-time',\n",
       " '8 hour shift +1',\n",
       " '$18 an hour',\n",
       " 'Full-time',\n",
       " 'Part-time',\n",
       " 'Day shift',\n",
       " 'Full-time',\n",
       " 'Full-time',\n",
       " 'Evening shift',\n",
       " 'From $31.25 an hour',\n",
       " 'Full-time',\n",
       " '8 hour shift +2',\n",
       " 'Contract']"
      ]
     },
     "execution_count": 26,
     "metadata": {},
     "output_type": "execute_result"
    }
   ],
   "source": [
    "#\n",
    "# job Skill dsecript\n",
    "employment_a = soup.find_all(attrs={'class':'attribute_snippet'})\n",
    "Scrapped_employment = []\n",
    "for contract in employment_a :\n",
    "    jobe= contract.get_text()\n",
    "    Scrapped_employment.append(jobe)\n",
    "Scrapped_employment"
   ]
  },
  {
   "cell_type": "markdown",
   "metadata": {},
   "source": [
    "# Full code"
   ]
  },
  {
   "cell_type": "code",
   "execution_count": 31,
   "metadata": {},
   "outputs": [
    {
     "name": "stdout",
     "output_type": "stream",
     "text": [
      "Getting pages, 0\n",
      "Getting pages, 10\n",
      "Getting pages, 20\n",
      "Getting pages, 30\n"
     ]
    }
   ],
   "source": [
    "import requests\n",
    "from bs4 import BeautifulSoup\n",
    "import pandas as pd\n",
    "\n",
    "\n",
    "def Choose(page):\n",
    "    ''' 1st page = 0, pages afterwards goes up by 10.\n",
    "        some sites need more information before they let allow you to webscrape\n",
    "        use  user agent\n",
    "    '''\n",
    "    url = f'https://www.indeed.com/jobs?l=Bronx,%20NY&radius=10&explvl=entry_level&fromage=14&start={page}&vjk=2dd1503812377c92'\n",
    "    headers = {'User-Agent':'Mozilla/5.0 (Windows NT 10.0; Win64; x64) AppleWebKit/537.36 (KHTML, like Gecko) Chrome/99.0.4844.74 Safari/537.36 Edg/99.0.1150.46'}\n",
    "    Indeed = requests.get(url, headers)\n",
    "    soup = BeautifulSoup(Indeed.content, 'html.parser')\n",
    "    return soup\n",
    "\n",
    "\n",
    "def transform(soup):\n",
    "    divs = soup.find_all('div',class_=\"slider_item\")\n",
    "    for item in divs:\n",
    "        title = item.find(attrs={'class':'jobTitle'}).text.strip()\n",
    "        company = item.find(attrs={'class':'companyName'}).text.strip()\n",
    "        Location = item.find(attrs={'class':'companyLocation'}).text.strip()\n",
    "        try:\n",
    "            salary = item.find(attrs={'class':'metadata estimated-salary-container'}).text.strip()\n",
    "        except:\n",
    "            salary ='NA'\n",
    "        Description = item.find(attrs={'class':'job-snippet'}).text.strip().replace('\\n','')\n",
    "        try:\n",
    "            employment_a = item.find(attrs={'class':'attribute_snippet'}).text.strip()\n",
    "        except:\n",
    "            employment_a ='NA'\n",
    "        Posted = item.find(attrs={'class':'date'}).text.strip()\n",
    "        \n",
    "        # create a Dict to dataframe use \n",
    "        Jobs = {'Title':title,\n",
    "                'Company' : company,\n",
    "                'Location' : Location,\n",
    "                'Salary' : salary,\n",
    "                'Description' : Description,\n",
    "                'Job_Type' :  employment_a,\n",
    "                'Date_posted' : Posted}\n",
    "        joblist.append(Jobs)\n",
    "    return\n",
    "   \n",
    "joblist = []\n",
    "# could later change the 40 to a input function\n",
    "#as this code will get you 3 pages worth.\n",
    "\n",
    "for i in range(0,40, 10):\n",
    "    print(f'Getting pages, {i}')\n",
    "    c = Choose(i)\n",
    "    transform(c)\n",
    "\n",
    "    \n",
    "Indeed_df = pd.DataFrame(joblist)    \n",
    "    \n",
    "Indeed_df.to_csv('Indeedjobs.csv',index=False)\n"
   ]
  },
  {
   "cell_type": "code",
   "execution_count": null,
   "metadata": {},
   "outputs": [],
   "source": []
  }
 ],
 "metadata": {
  "kernelspec": {
   "display_name": "Python 3",
   "language": "python",
   "name": "python3"
  },
  "language_info": {
   "codemirror_mode": {
    "name": "ipython",
    "version": 3
   },
   "file_extension": ".py",
   "mimetype": "text/x-python",
   "name": "python",
   "nbconvert_exporter": "python",
   "pygments_lexer": "ipython3",
   "version": "3.8.5"
  }
 },
 "nbformat": 4,
 "nbformat_minor": 4
}
